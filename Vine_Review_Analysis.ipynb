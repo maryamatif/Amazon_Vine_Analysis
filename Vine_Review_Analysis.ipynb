{
  "nbformat": 4,
  "nbformat_minor": 0,
  "metadata": {
    "colab": {
      "name": "Vine_Review_Analysis.ipynb",
      "provenance": [],
      "collapsed_sections": []
    },
    "kernelspec": {
      "name": "python3",
      "display_name": "Python 3"
    }
  },
  "cells": [
    {
      "cell_type": "code",
      "metadata": {
        "id": "HwJ8p8fbUB75",
        "outputId": "95b0c90f-8591-4952-d6c2-eba7f30af448",
        "colab": {
          "base_uri": "https://localhost:8080/",
          "height": 408
        }
      },
      "source": [
        "import os\n",
        "# Find the latest version of spark 2.0  from http://www-us.apache.org/dist/spark/ and enter as the spark version\n",
        "# For example:\n",
        "# spark_version = 'spark-3.0.0'\n",
        "spark_version = 'spark-3.0.1'\n",
        "os.environ['SPARK_VERSION']=spark_version\n",
        "\n",
        "# Install Spark and Java\n",
        "!apt-get update\n",
        "!apt-get install openjdk-11-jdk-headless -qq > /dev/null\n",
        "!wget -q http://www-us.apache.org/dist/spark/$SPARK_VERSION/$SPARK_VERSION-bin-hadoop2.7.tgz\n",
        "!tar xf $SPARK_VERSION-bin-hadoop2.7.tgz\n",
        "!pip install -q findspark\n",
        "\n",
        "# Set Environment Variables\n",
        "import os\n",
        "os.environ[\"JAVA_HOME\"] = \"/usr/lib/jvm/java-11-openjdk-amd64\"\n",
        "os.environ[\"SPARK_HOME\"] = f\"/content/{spark_version}-bin-hadoop2.7\"\n",
        "\n",
        "# Start a SparkSession\n",
        "import findspark\n",
        "findspark.init()"
      ],
      "execution_count": 1,
      "outputs": [
        {
          "output_type": "stream",
          "text": [
            "\r0% [Working]\r            \rGet:1 http://ppa.launchpad.net/c2d4u.team/c2d4u4.0+/ubuntu bionic InRelease [15.9 kB]\n",
            "\r0% [Waiting for headers] [Connecting to security.ubuntu.com (91.189.91.38)] [Co\r                                                                               \rHit:2 http://archive.ubuntu.com/ubuntu bionic InRelease\n",
            "\r0% [Connecting to security.ubuntu.com (91.189.91.38)] [Connected to cloud.r-pro\r                                                                               \rGet:3 http://archive.ubuntu.com/ubuntu bionic-updates InRelease [88.7 kB]\n",
            "\r0% [3 InRelease 15.6 kB/88.7 kB 18%] [Connecting to security.ubuntu.com (91.189\r0% [2 InRelease gpgv 242 kB] [3 InRelease 15.6 kB/88.7 kB 18%] [Connecting to s\r                                                                               \rHit:4 http://ppa.launchpad.net/graphics-drivers/ppa/ubuntu bionic InRelease\n",
            "\r0% [2 InRelease gpgv 242 kB] [3 InRelease 24.6 kB/88.7 kB 28%] [Connecting to s\r0% [2 InRelease gpgv 242 kB] [Waiting for headers] [Connecting to security.ubun\r                                                                               \rGet:5 https://cloud.r-project.org/bin/linux/ubuntu bionic-cran40/ InRelease [3,626 B]\n",
            "\r0% [2 InRelease gpgv 242 kB] [Waiting for headers] [Connecting to security.ubun\r                                                                               \rGet:6 http://archive.ubuntu.com/ubuntu bionic-backports InRelease [74.6 kB]\n",
            "\r0% [2 InRelease gpgv 242 kB] [6 InRelease 0 B/74.6 kB 0%] [Connecting to securi\r                                                                               \r0% [2 InRelease gpgv 242 kB] [Waiting for headers] [Waiting for headers]\r                                                                        \rGet:7 http://security.ubuntu.com/ubuntu bionic-security InRelease [88.7 kB]\n",
            "Ign:8 https://developer.download.nvidia.com/compute/cuda/repos/ubuntu1804/x86_64  InRelease\n",
            "Ign:9 https://developer.download.nvidia.com/compute/machine-learning/repos/ubuntu1804/x86_64  InRelease\n",
            "Get:10 https://developer.download.nvidia.com/compute/cuda/repos/ubuntu1804/x86_64  Release [697 B]\n",
            "Hit:11 https://developer.download.nvidia.com/compute/machine-learning/repos/ubuntu1804/x86_64  Release\n",
            "Get:12 https://developer.download.nvidia.com/compute/cuda/repos/ubuntu1804/x86_64  Release.gpg [836 B]\n",
            "Get:13 http://ppa.launchpad.net/c2d4u.team/c2d4u4.0+/ubuntu bionic/main Sources [1,681 kB]\n",
            "Get:14 http://ppa.launchpad.net/c2d4u.team/c2d4u4.0+/ubuntu bionic/main amd64 Packages [860 kB]\n",
            "Get:15 http://archive.ubuntu.com/ubuntu bionic-updates/main amd64 Packages [2,110 kB]\n",
            "Get:16 http://archive.ubuntu.com/ubuntu bionic-updates/universe amd64 Packages [2,104 kB]\n",
            "Get:17 https://cloud.r-project.org/bin/linux/ubuntu bionic-cran40/ Packages [39.1 kB]\n",
            "Ign:19 https://developer.download.nvidia.com/compute/cuda/repos/ubuntu1804/x86_64  Packages\n",
            "Get:19 https://developer.download.nvidia.com/compute/cuda/repos/ubuntu1804/x86_64  Packages [334 kB]\n",
            "Get:20 http://security.ubuntu.com/ubuntu bionic-security/universe amd64 Packages [1,341 kB]\n",
            "Get:21 http://security.ubuntu.com/ubuntu bionic-security/main amd64 Packages [1,693 kB]\n",
            "Fetched 10.4 MB in 2s (5,127 kB/s)\n",
            "Reading package lists... Done\n"
          ],
          "name": "stdout"
        }
      ]
    },
    {
      "cell_type": "code",
      "metadata": {
        "id": "KOMFZ_5jVdg4",
        "outputId": "6c71f6a6-49a3-48d8-97a9-4d05aba59fbc",
        "colab": {
          "base_uri": "https://localhost:8080/",
          "height": 204
        }
      },
      "source": [
        "# Download the Postgres driver that will allow Spark to interact with Postgres.\n",
        "!wget https://jdbc.postgresql.org/download/postgresql-42.2.16.jar"
      ],
      "execution_count": 2,
      "outputs": [
        {
          "output_type": "stream",
          "text": [
            "--2020-10-11 20:24:21--  https://jdbc.postgresql.org/download/postgresql-42.2.16.jar\n",
            "Resolving jdbc.postgresql.org (jdbc.postgresql.org)... 72.32.157.228, 2001:4800:3e1:1::228\n",
            "Connecting to jdbc.postgresql.org (jdbc.postgresql.org)|72.32.157.228|:443... connected.\n",
            "HTTP request sent, awaiting response... 200 OK\n",
            "Length: 1002883 (979K) [application/java-archive]\n",
            "Saving to: ‘postgresql-42.2.16.jar’\n",
            "\n",
            "postgresql-42.2.16. 100%[===================>] 979.38K  1.37MB/s    in 0.7s    \n",
            "\n",
            "2020-10-11 20:24:23 (1.37 MB/s) - ‘postgresql-42.2.16.jar’ saved [1002883/1002883]\n",
            "\n"
          ],
          "name": "stdout"
        }
      ]
    },
    {
      "cell_type": "code",
      "metadata": {
        "id": "u9XDM9zWVinc"
      },
      "source": [
        "from pyspark.sql import SparkSession\n",
        "spark = SparkSession.builder.appName(\"BigData-Challenge1\").config(\"spark.driver.extraClassPath\",\"/content/postgresql-42.2.16.jar\").getOrCreate()"
      ],
      "execution_count": 3,
      "outputs": []
    },
    {
      "cell_type": "code",
      "metadata": {
        "id": "rsreHNgtVqPe",
        "outputId": "be8e4e60-951d-424a-95f7-d9ef1c14baeb",
        "colab": {
          "base_uri": "https://localhost:8080/",
          "height": 479
        }
      },
      "source": [
        "from pyspark import SparkFiles\n",
        "url = \"https://s3.amazonaws.com/amazon-reviews-pds/tsv/amazon_reviews_us_Jewelry_v1_00.tsv.gz\"\n",
        "spark.sparkContext.addFile(url)\n",
        "df = spark.read.option(\"encoding\", \"UTF-8\").csv(SparkFiles.get(\"\"), sep=\"\\t\", header=True, inferSchema=True)\n",
        "df.show()"
      ],
      "execution_count": 4,
      "outputs": [
        {
          "output_type": "stream",
          "text": [
            "+-----------+-----------+--------------+----------+--------------+--------------------+----------------+-----------+-------------+-----------+----+-----------------+--------------------+--------------------+-----------+\n",
            "|marketplace|customer_id|     review_id|product_id|product_parent|       product_title|product_category|star_rating|helpful_votes|total_votes|vine|verified_purchase|     review_headline|         review_body|review_date|\n",
            "+-----------+-----------+--------------+----------+--------------+--------------------+----------------+-----------+-------------+-----------+----+-----------------+--------------------+--------------------+-----------+\n",
            "|         US|   50423057|R135Q3VZ4DQN5N|B00JWXFDMG|     657335467|Everbling Purple ...|         Jewelry|          5|            0|          0|   N|                Y|           Beauties!|so beautiful even...| 2015-08-31|\n",
            "|         US|   11262325|R2N0QQ6R4T7YRY|B00W5T1H9W|      26030170|925 Sterling Silv...|         Jewelry|          5|            0|          0|   N|                N|      Great product.|Great product.. I...| 2015-08-31|\n",
            "|         US|   27541121|R3N5JE5Y4T6W5M|B00M2L6KFY|     697845240|Sterling Silver C...|         Jewelry|          5|            0|          0|   N|                Y|Exactly as pictur...|Exactly as pictur...| 2015-08-31|\n",
            "|         US|    5350721|R2I150CX5IVY9Q|B0006SW2WU|     569859289|Surgical Stainles...|         Jewelry|          5|            0|          0|   N|                Y|          Five Stars|Love it. Fits gre...| 2015-08-31|\n",
            "|         US|   24484424|R1RM9ICOOA9MQ3|B009YPDW70|     332947422|Sterling Silver F...|         Jewelry|          5|            0|          0|   N|                Y|... a Mother's Da...|Got this as a Mot...| 2015-08-31|\n",
            "|         US|     457767|R2J2KMDL10UMSH|B00QGA8XZM|     424804582|CHOOSE YOUR COLOR...|         Jewelry|          5|            0|          0|   N|                Y|          Five Stars|I Love It Make Me...| 2015-08-31|\n",
            "|         US|   31009358|R3R9ZUFA4TB4FQ|B00L0N0E8E|     589441783|Metal Factory 925...|         Jewelry|          5|            0|          0|   N|                Y|          Five Stars|True to size, unique| 2015-08-31|\n",
            "|         US|    7034628|R3UQ8VAQN7R6WL|B00DMWQKWA|     517428445|niceEshop(TM)Clas...|         Jewelry|          5|            0|          0|   N|                Y|          Five Stars|This necklace is ...| 2015-08-31|\n",
            "|         US|   34608636|R1FXZ69C01JNQM|B00THLHAGA|     320313750|Genuine Natural B...|         Jewelry|          5|            0|          0|   N|                Y|          Five Stars|        just perfect| 2015-08-31|\n",
            "|         US|   44972687| RY36LB4OW0FFS|B00UXSEOHY|     589365488|MBOX Expandable A...|         Jewelry|          5|            0|          0|   N|                Y|          Five Stars|           Love it !| 2015-08-31|\n",
            "|         US|   16684508| R6PKS54PC6ZY2|B00XGRYGVS|     217045013|Set of 3 Nose Rin...|         Jewelry|          1|            4|          4|   N|                Y|I had high hopes ...|They didn't even ...| 2015-08-31|\n",
            "|         US|   23493178|R1LYSAH0IECVWB|B00AJ2VU8A|     972853757|3-row White A Gra...|         Jewelry|          5|            0|          0|   N|                Y|This is a real ni...|This is a real ni...| 2015-08-31|\n",
            "|         US|     108294|R1UN0IZI3XQ3E2|B00LE5Y100|     979375701|KONOV Mens Stainl...|         Jewelry|          5|            2|          3|   N|                Y|             AMAZING|This is a very co...| 2015-08-31|\n",
            "|         US|   25810742| RIKDXD8QGL99S|B013E0AOH6|     619592796|TEMEGO Jewelry Me...|         Jewelry|          5|            1|          1|   N|                Y|          Five Stars|Great quality for...| 2015-08-31|\n",
            "|         US|   12037665| RUZCQTXZVGUFH|B00XAWUP96|     783863439|Royal Blue/White ...|         Jewelry|          4|            1|          1|   N|                Y|A Little Smaller ...|I like the bracel...| 2015-08-31|\n",
            "|         US|   51793466|R35CD4IHO3RP9H|B00WD82F1O|     655270378|10-11mm Baroque F...|         Jewelry|          5|            1|          1|   N|                Y|Pretty and Versatile|This is pretty an...| 2015-08-31|\n",
            "|         US|     127508|R13YD66XC9221U|B00JP4XCSO|     592155747|Sankuwen® Fashion...|         Jewelry|          1|            0|          0|   N|                N|Don't get this li...|Don't get this li...| 2015-08-31|\n",
            "|         US|   38430946| RHWG4JRVDSEYY|B00PZSM384|     622179716|zjskin6688 store ...|         Jewelry|          3|            1|          1|   N|                Y|         Three Stars|Not what I expect...| 2015-08-31|\n",
            "|         US|   33684654|R3SPIKMJ5IWHX8|B00VLMW18K|      36759824|Scheppend Polymer...|         Jewelry|          4|            0|          0|   N|                Y|          Four Stars|Bought these for ...| 2015-08-31|\n",
            "|         US|    5068631| RS19ACU7KWWNE|B00U5LDBB4|     575109200|Horizontal Sidewa...|         Jewelry|          5|            1|          1|   N|                Y|          Five Stars|Pretty, and very ...| 2015-08-31|\n",
            "+-----------+-----------+--------------+----------+--------------+--------------------+----------------+-----------+-------------+-----------+----+-----------------+--------------------+--------------------+-----------+\n",
            "only showing top 20 rows\n",
            "\n"
          ],
          "name": "stdout"
        }
      ]
    },
    {
      "cell_type": "code",
      "metadata": {
        "id": "Ch4Osa0hVwZ0",
        "outputId": "8617175b-6ebb-48eb-ea28-e100ef79cf08",
        "colab": {
          "base_uri": "https://localhost:8080/",
          "height": 479
        }
      },
      "source": [
        "from pyspark.sql.functions import to_date\n",
        "from pyspark.sql.functions import col\n",
        "# Read in the Review dataset as a DataFrame\n",
        "df.show()"
      ],
      "execution_count": 5,
      "outputs": [
        {
          "output_type": "stream",
          "text": [
            "+-----------+-----------+--------------+----------+--------------+--------------------+----------------+-----------+-------------+-----------+----+-----------------+--------------------+--------------------+-----------+\n",
            "|marketplace|customer_id|     review_id|product_id|product_parent|       product_title|product_category|star_rating|helpful_votes|total_votes|vine|verified_purchase|     review_headline|         review_body|review_date|\n",
            "+-----------+-----------+--------------+----------+--------------+--------------------+----------------+-----------+-------------+-----------+----+-----------------+--------------------+--------------------+-----------+\n",
            "|         US|   50423057|R135Q3VZ4DQN5N|B00JWXFDMG|     657335467|Everbling Purple ...|         Jewelry|          5|            0|          0|   N|                Y|           Beauties!|so beautiful even...| 2015-08-31|\n",
            "|         US|   11262325|R2N0QQ6R4T7YRY|B00W5T1H9W|      26030170|925 Sterling Silv...|         Jewelry|          5|            0|          0|   N|                N|      Great product.|Great product.. I...| 2015-08-31|\n",
            "|         US|   27541121|R3N5JE5Y4T6W5M|B00M2L6KFY|     697845240|Sterling Silver C...|         Jewelry|          5|            0|          0|   N|                Y|Exactly as pictur...|Exactly as pictur...| 2015-08-31|\n",
            "|         US|    5350721|R2I150CX5IVY9Q|B0006SW2WU|     569859289|Surgical Stainles...|         Jewelry|          5|            0|          0|   N|                Y|          Five Stars|Love it. Fits gre...| 2015-08-31|\n",
            "|         US|   24484424|R1RM9ICOOA9MQ3|B009YPDW70|     332947422|Sterling Silver F...|         Jewelry|          5|            0|          0|   N|                Y|... a Mother's Da...|Got this as a Mot...| 2015-08-31|\n",
            "|         US|     457767|R2J2KMDL10UMSH|B00QGA8XZM|     424804582|CHOOSE YOUR COLOR...|         Jewelry|          5|            0|          0|   N|                Y|          Five Stars|I Love It Make Me...| 2015-08-31|\n",
            "|         US|   31009358|R3R9ZUFA4TB4FQ|B00L0N0E8E|     589441783|Metal Factory 925...|         Jewelry|          5|            0|          0|   N|                Y|          Five Stars|True to size, unique| 2015-08-31|\n",
            "|         US|    7034628|R3UQ8VAQN7R6WL|B00DMWQKWA|     517428445|niceEshop(TM)Clas...|         Jewelry|          5|            0|          0|   N|                Y|          Five Stars|This necklace is ...| 2015-08-31|\n",
            "|         US|   34608636|R1FXZ69C01JNQM|B00THLHAGA|     320313750|Genuine Natural B...|         Jewelry|          5|            0|          0|   N|                Y|          Five Stars|        just perfect| 2015-08-31|\n",
            "|         US|   44972687| RY36LB4OW0FFS|B00UXSEOHY|     589365488|MBOX Expandable A...|         Jewelry|          5|            0|          0|   N|                Y|          Five Stars|           Love it !| 2015-08-31|\n",
            "|         US|   16684508| R6PKS54PC6ZY2|B00XGRYGVS|     217045013|Set of 3 Nose Rin...|         Jewelry|          1|            4|          4|   N|                Y|I had high hopes ...|They didn't even ...| 2015-08-31|\n",
            "|         US|   23493178|R1LYSAH0IECVWB|B00AJ2VU8A|     972853757|3-row White A Gra...|         Jewelry|          5|            0|          0|   N|                Y|This is a real ni...|This is a real ni...| 2015-08-31|\n",
            "|         US|     108294|R1UN0IZI3XQ3E2|B00LE5Y100|     979375701|KONOV Mens Stainl...|         Jewelry|          5|            2|          3|   N|                Y|             AMAZING|This is a very co...| 2015-08-31|\n",
            "|         US|   25810742| RIKDXD8QGL99S|B013E0AOH6|     619592796|TEMEGO Jewelry Me...|         Jewelry|          5|            1|          1|   N|                Y|          Five Stars|Great quality for...| 2015-08-31|\n",
            "|         US|   12037665| RUZCQTXZVGUFH|B00XAWUP96|     783863439|Royal Blue/White ...|         Jewelry|          4|            1|          1|   N|                Y|A Little Smaller ...|I like the bracel...| 2015-08-31|\n",
            "|         US|   51793466|R35CD4IHO3RP9H|B00WD82F1O|     655270378|10-11mm Baroque F...|         Jewelry|          5|            1|          1|   N|                Y|Pretty and Versatile|This is pretty an...| 2015-08-31|\n",
            "|         US|     127508|R13YD66XC9221U|B00JP4XCSO|     592155747|Sankuwen® Fashion...|         Jewelry|          1|            0|          0|   N|                N|Don't get this li...|Don't get this li...| 2015-08-31|\n",
            "|         US|   38430946| RHWG4JRVDSEYY|B00PZSM384|     622179716|zjskin6688 store ...|         Jewelry|          3|            1|          1|   N|                Y|         Three Stars|Not what I expect...| 2015-08-31|\n",
            "|         US|   33684654|R3SPIKMJ5IWHX8|B00VLMW18K|      36759824|Scheppend Polymer...|         Jewelry|          4|            0|          0|   N|                Y|          Four Stars|Bought these for ...| 2015-08-31|\n",
            "|         US|    5068631| RS19ACU7KWWNE|B00U5LDBB4|     575109200|Horizontal Sidewa...|         Jewelry|          5|            1|          1|   N|                Y|          Five Stars|Pretty, and very ...| 2015-08-31|\n",
            "+-----------+-----------+--------------+----------+--------------+--------------------+----------------+-----------+-------------+-----------+----+-----------------+--------------------+--------------------+-----------+\n",
            "only showing top 20 rows\n",
            "\n"
          ],
          "name": "stdout"
        }
      ]
    },
    {
      "cell_type": "code",
      "metadata": {
        "id": "V-otyBrUV7_K",
        "outputId": "30095f26-b712-4568-f369-c28f1da1d2b9",
        "colab": {
          "base_uri": "https://localhost:8080/",
          "height": 459
        }
      },
      "source": [
        "# Create the vine_table. DataFrame\n",
        "vine_df = df.select([\"review_id\",\"star_rating\",\"helpful_votes\",\"total_votes\",\"vine\",\"verified_purchase\"])\n",
        "vine_df.show()"
      ],
      "execution_count": 6,
      "outputs": [
        {
          "output_type": "stream",
          "text": [
            "+--------------+-----------+-------------+-----------+----+-----------------+\n",
            "|     review_id|star_rating|helpful_votes|total_votes|vine|verified_purchase|\n",
            "+--------------+-----------+-------------+-----------+----+-----------------+\n",
            "|R135Q3VZ4DQN5N|          5|            0|          0|   N|                Y|\n",
            "|R2N0QQ6R4T7YRY|          5|            0|          0|   N|                N|\n",
            "|R3N5JE5Y4T6W5M|          5|            0|          0|   N|                Y|\n",
            "|R2I150CX5IVY9Q|          5|            0|          0|   N|                Y|\n",
            "|R1RM9ICOOA9MQ3|          5|            0|          0|   N|                Y|\n",
            "|R2J2KMDL10UMSH|          5|            0|          0|   N|                Y|\n",
            "|R3R9ZUFA4TB4FQ|          5|            0|          0|   N|                Y|\n",
            "|R3UQ8VAQN7R6WL|          5|            0|          0|   N|                Y|\n",
            "|R1FXZ69C01JNQM|          5|            0|          0|   N|                Y|\n",
            "| RY36LB4OW0FFS|          5|            0|          0|   N|                Y|\n",
            "| R6PKS54PC6ZY2|          1|            4|          4|   N|                Y|\n",
            "|R1LYSAH0IECVWB|          5|            0|          0|   N|                Y|\n",
            "|R1UN0IZI3XQ3E2|          5|            2|          3|   N|                Y|\n",
            "| RIKDXD8QGL99S|          5|            1|          1|   N|                Y|\n",
            "| RUZCQTXZVGUFH|          4|            1|          1|   N|                Y|\n",
            "|R35CD4IHO3RP9H|          5|            1|          1|   N|                Y|\n",
            "|R13YD66XC9221U|          1|            0|          0|   N|                N|\n",
            "| RHWG4JRVDSEYY|          3|            1|          1|   N|                Y|\n",
            "|R3SPIKMJ5IWHX8|          4|            0|          0|   N|                Y|\n",
            "| RS19ACU7KWWNE|          5|            1|          1|   N|                Y|\n",
            "+--------------+-----------+-------------+-----------+----+-----------------+\n",
            "only showing top 20 rows\n",
            "\n"
          ],
          "name": "stdout"
        }
      ]
    },
    {
      "cell_type": "code",
      "metadata": {
        "id": "pzPocwbeV-0Q",
        "outputId": "7b6d6665-a5e1-4930-9edc-99f8d243fc3a",
        "colab": {
          "base_uri": "https://localhost:8080/",
          "height": 459
        }
      },
      "source": [
        "#Filter for only columns with active users\n",
        "vine_cleaned_df = vine_df.filter(col(\"total_votes\") >= \"20\")\n",
        "vine_cleaned_df.show()"
      ],
      "execution_count": 18,
      "outputs": [
        {
          "output_type": "stream",
          "text": [
            "+--------------+-----------+-------------+-----------+----+-----------------+\n",
            "|     review_id|star_rating|helpful_votes|total_votes|vine|verified_purchase|\n",
            "+--------------+-----------+-------------+-----------+----+-----------------+\n",
            "|R16YC6SMGKA8SR|          5|           23|         23|   N|                Y|\n",
            "| R5O4WE9UM60B0|          1|           29|         29|   N|                Y|\n",
            "|R2EKRVCRC7U0IY|          1|           22|         24|   N|                Y|\n",
            "|R2OKV47GETH0L7|          5|           24|         24|   N|                Y|\n",
            "| R36LII9IITE17|          1|           22|         24|   N|                Y|\n",
            "|R35VKNE16PFY0H|          5|           22|         24|   N|                N|\n",
            "|R3TG008LHHZZIN|          5|          123|        125|   N|                Y|\n",
            "|R2FYQBKCC1XG4M|          5|           20|         20|   N|                Y|\n",
            "| R63PV336NI5X7|          1|           27|         28|   N|                Y|\n",
            "|R1R42WPHB5ZSWI|          5|           51|         52|   N|                Y|\n",
            "| RXSS0QZJE1TEO|          1|           35|         35|   N|                Y|\n",
            "| RGS9C5XKWVYP9|          1|           24|         24|   N|                Y|\n",
            "|R3R5BWMKH1EUIQ|          5|           26|         27|   N|                N|\n",
            "|R2KBDT7RGO1G86|          3|           33|         39|   N|                Y|\n",
            "|R2WA09RFYT69GB|          5|           21|         22|   N|                Y|\n",
            "| RYNTUAMCHU3W4|          5|           22|         22|   N|                Y|\n",
            "|R3U5NCDM6NLHLC|          5|           29|         30|   N|                Y|\n",
            "| R8708W8U0Z89A|          2|           37|         38|   N|                Y|\n",
            "| RFT7R66D3SA54|          5|           23|         24|   N|                Y|\n",
            "|R1OI5TTOS49U8R|          5|           33|         34|   N|                Y|\n",
            "+--------------+-----------+-------------+-----------+----+-----------------+\n",
            "only showing top 20 rows\n",
            "\n"
          ],
          "name": "stdout"
        }
      ]
    },
    {
      "cell_type": "code",
      "metadata": {
        "id": "z2PCN2FwY0CE",
        "outputId": "2c1a4fea-8883-4243-9666-67bd533d5285",
        "colab": {
          "base_uri": "https://localhost:8080/",
          "height": 459
        }
      },
      "source": [
        "vine_cleaner_df = vine_cleaned_df.filter(col(\"helpful_votes\")/col(\"total_votes\") >= \"0.5\")\n",
        "vine_cleaner_df.show()"
      ],
      "execution_count": 32,
      "outputs": [
        {
          "output_type": "stream",
          "text": [
            "+--------------+-----------+-------------+-----------+----+-----------------+\n",
            "|     review_id|star_rating|helpful_votes|total_votes|vine|verified_purchase|\n",
            "+--------------+-----------+-------------+-----------+----+-----------------+\n",
            "|R16YC6SMGKA8SR|          5|           23|         23|   N|                Y|\n",
            "| R5O4WE9UM60B0|          1|           29|         29|   N|                Y|\n",
            "|R2EKRVCRC7U0IY|          1|           22|         24|   N|                Y|\n",
            "|R2OKV47GETH0L7|          5|           24|         24|   N|                Y|\n",
            "| R36LII9IITE17|          1|           22|         24|   N|                Y|\n",
            "|R35VKNE16PFY0H|          5|           22|         24|   N|                N|\n",
            "|R3TG008LHHZZIN|          5|          123|        125|   N|                Y|\n",
            "|R2FYQBKCC1XG4M|          5|           20|         20|   N|                Y|\n",
            "| R63PV336NI5X7|          1|           27|         28|   N|                Y|\n",
            "|R1R42WPHB5ZSWI|          5|           51|         52|   N|                Y|\n",
            "| RXSS0QZJE1TEO|          1|           35|         35|   N|                Y|\n",
            "| RGS9C5XKWVYP9|          1|           24|         24|   N|                Y|\n",
            "|R3R5BWMKH1EUIQ|          5|           26|         27|   N|                N|\n",
            "|R2KBDT7RGO1G86|          3|           33|         39|   N|                Y|\n",
            "|R2WA09RFYT69GB|          5|           21|         22|   N|                Y|\n",
            "| RYNTUAMCHU3W4|          5|           22|         22|   N|                Y|\n",
            "|R3U5NCDM6NLHLC|          5|           29|         30|   N|                Y|\n",
            "| R8708W8U0Z89A|          2|           37|         38|   N|                Y|\n",
            "| RFT7R66D3SA54|          5|           23|         24|   N|                Y|\n",
            "|R1OI5TTOS49U8R|          5|           33|         34|   N|                Y|\n",
            "+--------------+-----------+-------------+-----------+----+-----------------+\n",
            "only showing top 20 rows\n",
            "\n"
          ],
          "name": "stdout"
        }
      ]
    },
    {
      "cell_type": "code",
      "metadata": {
        "id": "rX0iXt0Ab0Hu",
        "outputId": "fa8fbd24-a4ac-44ce-a12a-bd6a3b496810",
        "colab": {
          "base_uri": "https://localhost:8080/",
          "height": 459
        }
      },
      "source": [
        "vine_review_df = vine_cleaner_df.filter(col(\"vine\") == \"Y\")\n",
        "vine_review_df.show()"
      ],
      "execution_count": 56,
      "outputs": [
        {
          "output_type": "stream",
          "text": [
            "+--------------+-----------+-------------+-----------+----+-----------------+\n",
            "|     review_id|star_rating|helpful_votes|total_votes|vine|verified_purchase|\n",
            "+--------------+-----------+-------------+-----------+----+-----------------+\n",
            "|R15PXA9XU9ZKSU|          4|           29|         29|   Y|                N|\n",
            "|R2LJ4QYQ4PYDEH|          5|           24|         26|   Y|                N|\n",
            "|R2PJWWQZ37WCIC|          5|           95|         96|   Y|                N|\n",
            "|R33G2VDKRN2USY|          5|           21|         21|   Y|                N|\n",
            "|R13R4X37T2U50A|          4|           52|         57|   Y|                N|\n",
            "|R1X1J2NAQ39DF6|          4|           29|         34|   Y|                N|\n",
            "|R2UV5XHFNMPXOX|          5|           60|         61|   Y|                N|\n",
            "|R31V08BCC9X3MF|          5|           18|         22|   Y|                N|\n",
            "|R2G00QWTYW9N2G|          5|           86|         91|   Y|                N|\n",
            "| RL8H3NKKP989J|          5|           30|         34|   Y|                N|\n",
            "| RZ65QBOJ8ZNRN|          4|           19|         22|   Y|                N|\n",
            "| RDZBWH5MFEQY1|          5|           18|         22|   Y|                N|\n",
            "|R24SU7KP57HE8L|          4|           25|         26|   Y|                N|\n",
            "| RV3V9VIC29R8S|          2|           66|         68|   Y|                N|\n",
            "|R31AR3XSFSHY1B|          4|           33|         35|   Y|                N|\n",
            "|R3VWAKQ4JXGE55|          5|           33|         34|   Y|                N|\n",
            "| RNZ2BP0EHN7IK|          5|           20|         20|   Y|                N|\n",
            "| RXKITVQ3MN3PS|          4|           22|         23|   Y|                N|\n",
            "|R3TZE1OYDVZPRD|          5|           23|         24|   Y|                N|\n",
            "|R3FO353G2ET17M|          4|           23|         24|   Y|                N|\n",
            "+--------------+-----------+-------------+-----------+----+-----------------+\n",
            "only showing top 20 rows\n",
            "\n"
          ],
          "name": "stdout"
        }
      ]
    },
    {
      "cell_type": "code",
      "metadata": {
        "id": "Ezzlf6p8cO5J",
        "outputId": "6eaf63e8-8665-4fb2-ff16-344f6fff4e50",
        "colab": {
          "base_uri": "https://localhost:8080/",
          "height": 459
        }
      },
      "source": [
        "vine_noreview_df = vine_cleaner_df.filter(col(\"vine\") == \"N\")\n",
        "vine_noreview_df.show()"
      ],
      "execution_count": 38,
      "outputs": [
        {
          "output_type": "stream",
          "text": [
            "+--------------+-----------+-------------+-----------+----+-----------------+\n",
            "|     review_id|star_rating|helpful_votes|total_votes|vine|verified_purchase|\n",
            "+--------------+-----------+-------------+-----------+----+-----------------+\n",
            "|R16YC6SMGKA8SR|          5|           23|         23|   N|                Y|\n",
            "| R5O4WE9UM60B0|          1|           29|         29|   N|                Y|\n",
            "|R2EKRVCRC7U0IY|          1|           22|         24|   N|                Y|\n",
            "|R2OKV47GETH0L7|          5|           24|         24|   N|                Y|\n",
            "| R36LII9IITE17|          1|           22|         24|   N|                Y|\n",
            "|R35VKNE16PFY0H|          5|           22|         24|   N|                N|\n",
            "|R3TG008LHHZZIN|          5|          123|        125|   N|                Y|\n",
            "|R2FYQBKCC1XG4M|          5|           20|         20|   N|                Y|\n",
            "| R63PV336NI5X7|          1|           27|         28|   N|                Y|\n",
            "|R1R42WPHB5ZSWI|          5|           51|         52|   N|                Y|\n",
            "| RXSS0QZJE1TEO|          1|           35|         35|   N|                Y|\n",
            "| RGS9C5XKWVYP9|          1|           24|         24|   N|                Y|\n",
            "|R3R5BWMKH1EUIQ|          5|           26|         27|   N|                N|\n",
            "|R2KBDT7RGO1G86|          3|           33|         39|   N|                Y|\n",
            "|R2WA09RFYT69GB|          5|           21|         22|   N|                Y|\n",
            "| RYNTUAMCHU3W4|          5|           22|         22|   N|                Y|\n",
            "|R3U5NCDM6NLHLC|          5|           29|         30|   N|                Y|\n",
            "| R8708W8U0Z89A|          2|           37|         38|   N|                Y|\n",
            "| RFT7R66D3SA54|          5|           23|         24|   N|                Y|\n",
            "|R1OI5TTOS49U8R|          5|           33|         34|   N|                Y|\n",
            "+--------------+-----------+-------------+-----------+----+-----------------+\n",
            "only showing top 20 rows\n",
            "\n"
          ],
          "name": "stdout"
        }
      ]
    },
    {
      "cell_type": "code",
      "metadata": {
        "id": "HxsukzCndJo2",
        "outputId": "b92792c2-5c55-4a4a-ae04-e34c37f60d20",
        "colab": {
          "base_uri": "https://localhost:8080/",
          "height": 34
        }
      },
      "source": [
        "vine_review_df.count()"
      ],
      "execution_count": 39,
      "outputs": [
        {
          "output_type": "execute_result",
          "data": {
            "text/plain": [
              "21"
            ]
          },
          "metadata": {
            "tags": []
          },
          "execution_count": 39
        }
      ]
    },
    {
      "cell_type": "code",
      "metadata": {
        "id": "BcGMxXfmdoA_",
        "outputId": "81ac3a70-1fa5-4cb2-e856-3301424125e9",
        "colab": {
          "base_uri": "https://localhost:8080/",
          "height": 34
        }
      },
      "source": [
        "vine_review_df.filter(col(\"star_rating\") == \"5\").count()"
      ],
      "execution_count": 52,
      "outputs": [
        {
          "output_type": "execute_result",
          "data": {
            "text/plain": [
              "11"
            ]
          },
          "metadata": {
            "tags": []
          },
          "execution_count": 52
        }
      ]
    },
    {
      "cell_type": "code",
      "metadata": {
        "id": "G29IG-eCfPeY",
        "outputId": "44068c57-8087-44f0-a0e5-fae619a05971",
        "colab": {
          "base_uri": "https://localhost:8080/",
          "height": 34
        }
      },
      "source": [
        "vine_review_df.filter(col(\"star_rating\") == \"5\").count() / vine_review_df.count()"
      ],
      "execution_count": 53,
      "outputs": [
        {
          "output_type": "execute_result",
          "data": {
            "text/plain": [
              "0.5238095238095238"
            ]
          },
          "metadata": {
            "tags": []
          },
          "execution_count": 53
        }
      ]
    },
    {
      "cell_type": "code",
      "metadata": {
        "id": "qUB46ceKfZ6X",
        "outputId": "498da5e7-f2b7-4fd0-f83c-8add7cecae60",
        "colab": {
          "base_uri": "https://localhost:8080/",
          "height": 34
        }
      },
      "source": [
        "vine_noreview_df.count()"
      ],
      "execution_count": 54,
      "outputs": [
        {
          "output_type": "execute_result",
          "data": {
            "text/plain": [
              "7689"
            ]
          },
          "metadata": {
            "tags": []
          },
          "execution_count": 54
        }
      ]
    },
    {
      "cell_type": "code",
      "metadata": {
        "id": "H2vOmp7-fuSm",
        "outputId": "5485e26f-2239-42dc-c41d-8284d2c9ec31",
        "colab": {
          "base_uri": "https://localhost:8080/",
          "height": 34
        }
      },
      "source": [
        "vine_noreview_df.filter(col(\"star_rating\") == \"5\").count()"
      ],
      "execution_count": 57,
      "outputs": [
        {
          "output_type": "execute_result",
          "data": {
            "text/plain": [
              "4444"
            ]
          },
          "metadata": {
            "tags": []
          },
          "execution_count": 57
        }
      ]
    },
    {
      "cell_type": "code",
      "metadata": {
        "id": "jlahoXqkfyMe",
        "outputId": "89dbc133-1fde-4aa1-d1e4-38c315b82db2",
        "colab": {
          "base_uri": "https://localhost:8080/",
          "height": 34
        }
      },
      "source": [
        "vine_noreview_df.filter(col(\"star_rating\") == \"5\").count() / vine_noreview_df.count()"
      ],
      "execution_count": 58,
      "outputs": [
        {
          "output_type": "execute_result",
          "data": {
            "text/plain": [
              "0.5779685264663805"
            ]
          },
          "metadata": {
            "tags": []
          },
          "execution_count": 58
        }
      ]
    }
  ]
}